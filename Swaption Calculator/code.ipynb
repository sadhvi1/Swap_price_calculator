{
 "cells": [
  {
   "cell_type": "code",
   "execution_count": 8,
   "id": "cd84908f",
   "metadata": {},
   "outputs": [],
   "source": [
    "import pandas as pd\n",
    "import numpy as np\n",
    "from scipy.stats import norm"
   ]
  },
  {
   "cell_type": "code",
   "execution_count": 9,
   "id": "d60e0292",
   "metadata": {},
   "outputs": [],
   "source": [
    "class SwaptionPriceCalculator:\n",
    "    def __init__(self, data, notional, option_maturity, swap_tenor, volatility, risk_free_rate):\n",
    "        self.df = pd.DataFrame(data)\n",
    "        self.notional = notional\n",
    "        self.option_maturity = option_maturity\n",
    "        self.volatility = volatility\n",
    "        self.swap_tenor = swap_tenor\n",
    "        self.risk_free_rate = risk_free_rate\n",
    "        \n"
   ]
  },
  {
   "cell_type": "markdown",
   "id": "a2dc3960",
   "metadata": {},
   "source": [
    "Calculating forward rates, simple forward rates and discounting factors"
   ]
  },
  {
   "cell_type": "markdown",
   "id": "0617d3de",
   "metadata": {},
   "source": [
    "Discount factor calculation for a given maturity"
   ]
  },
  {
   "cell_type": "code",
   "execution_count": 10,
   "id": "5eb07de5",
   "metadata": {},
   "outputs": [],
   "source": [
    "def calculate_strike_rate(self):\n",
    "    maturity_index = int(self.swap_tenor * 2) -1\n",
    "    strike_rate = 0\n",
    "    for i in range(maturity_index):\n",
    "        strike_rate += np.exp(-self.df['Maturity'][i] * self.df['Continuous_rate'][i])\n",
    "    return strike_rate"
   ]
  },
  {
   "cell_type": "code",
   "execution_count": 11,
   "id": "06b71ba5",
   "metadata": {},
   "outputs": [],
   "source": [
    "def calculate_annuity(self):\n",
    "    \n",
    "    # Assuming semi-annual payments\n",
    "    \n",
    "    maturity_index = int(self.option_maturity *2) - 1 \n",
    "    annuity_factor = 0\n",
    "    for i in range(maturity_index, len(self.df['Maturity'])):\n",
    "        annuity_factor += np.exp(-self.df['Maturity'][i] * self.df['Continuous_rate'][i])\n",
    "    return annuity_factor"
   ]
  },
  {
   "cell_type": "markdown",
   "id": "5f99420a",
   "metadata": {},
   "source": [
    "Performing analytical valuation of the swaps - Black 76 model\n",
    "This will return us option price"
   ]
  },
  {
   "cell_type": "code",
   "execution_count": 12,
   "id": "cbf00579",
   "metadata": {},
   "outputs": [],
   "source": [
    "def analytical_valuation(self):\n",
    "    \n",
    "    forward_swap_rate = self.calculate_stike_rate()\n",
    "    \n",
    "    d1 = (np.log(forward_swap_rate / self.calculate_strike_rate) + 0.5 * self.volatility ** 2 * self.option_maturity) / (self.volatility * np.sqrt(self.option_maturity))\n",
    "    d2 = d1 - self.volatility * np.sqrt(self.option_maturity)\n",
    "    N_d1 = norm.cdf(d1)\n",
    "    N_d2 = norm.cdf(d2)\n",
    "    annuity_factor = self.notional * self.swap_tenor * self.calculate_annuity()\n",
    "    \n",
    "    if self.option_type == 'receiver_swaption':\n",
    "        option_price = (forward_swap_rate * N_d1 - self.calculate_strike_rate() * N_d2) * annuity_factor\n",
    "    else:\n",
    "        option_price = (self.calculate_stike_rate * (1-N_d2) - forward_swap_rate * (1 - N_d1)) * annuity_factor\n",
    "    \n",
    "    return option_price\n",
    "          \n",
    "          "
   ]
  },
  {
   "cell_type": "code",
   "execution_count": 13,
   "id": "3dcb5343",
   "metadata": {},
   "outputs": [],
   "source": [
    "def monte_carlo_valuation(self, F0, nsteps, nsims):\n",
    "    \n",
    "    dt = self.option_maturity / nsteps\n",
    "    F = np.zeros((nsims, nsteps + 1))\n",
    "    F[:, 0] = F0\n",
    "    for i in range(nsteps):\n",
    "        phi = np.random.randn(nsims)\n",
    "        F[:, i + 1] = F[:, i] * np.exp(phi * self.volatility * np.sqrt(dt) - 0.5 * self.volatility ** 2 * dt)\n",
    "        \n",
    "    payoff = np.maximum(F[:, -1] - F0, 0)\n",
    "    discounted_payoff = np.exp(-self.risk_free_rate * self.option_maturity) * payoff\n",
    "    option_price = self.notional * 0.5 * self.calculate_annuity() * discounted_payoff.mean()\n",
    "    \n",
    "    return option_price\n",
    "     "
   ]
  },
  {
   "cell_type": "markdown",
   "id": "fc6e891c",
   "metadata": {},
   "source": [
    "Testing our valuation model"
   ]
  },
  {
   "cell_type": "code",
   "execution_count": 14,
   "id": "8e9ad2f8",
   "metadata": {},
   "outputs": [
    {
     "ename": "AttributeError",
     "evalue": "'SwaptionPriceCalculator' object has no attribute 'analytical_valuation'",
     "output_type": "error",
     "traceback": [
      "\u001b[1;31m---------------------------------------------------------------------------\u001b[0m",
      "\u001b[1;31mAttributeError\u001b[0m                            Traceback (most recent call last)",
      "Cell \u001b[1;32mIn [14], line 12\u001b[0m\n\u001b[0;32m      9\u001b[0m risk_free_rate \u001b[38;5;241m=\u001b[39m \u001b[38;5;241m0.05\u001b[39m\n\u001b[0;32m     11\u001b[0m swaption_calculator \u001b[38;5;241m=\u001b[39m SwaptionPriceCalculator(data, notional, option_maturity, swap_tenor, volatility, risk_free_rate)\n\u001b[1;32m---> 12\u001b[0m analytical_price \u001b[38;5;241m=\u001b[39m swaption_calculator\u001b[38;5;241m.\u001b[39manalytical_valuation()\n\u001b[0;32m     13\u001b[0m \u001b[38;5;28mprint\u001b[39m(\u001b[38;5;124m'\u001b[39m\u001b[38;5;124mAnalytical Valuation Price : \u001b[39m\u001b[38;5;124m'\u001b[39m, analytical_price)\n",
      "\u001b[1;31mAttributeError\u001b[0m: 'SwaptionPriceCalculator' object has no attribute 'analytical_valuation'"
     ]
    }
   ],
   "source": [
    "data = {\n",
    "    'Maturity': [0.5, 1.0, 1.5, 2.0, 2.5, 3.0],\n",
    "    'Continuous_rate': [0.0500, 0.0600, 0.0675, 0.0725,0.0750, 0.0760],\n",
    "}\n",
    "notional = 1000000\n",
    "option_maturity = 1\n",
    "swap_tenor = 2\n",
    "volatility = 0.2\n",
    "risk_free_rate = 0.05\n",
    "\n",
    "swaption_calculator = SwaptionPriceCalculator(data, notional, option_maturity, swap_tenor, volatility, risk_free_rate)\n",
    "analytical_price = swaption_calculator.analytical_valuation()\n",
    "print('Analytical Valuation Price : ', analytical_price)"
   ]
  },
  {
   "cell_type": "code",
   "execution_count": null,
   "id": "621eaf14",
   "metadata": {},
   "outputs": [],
   "source": [
    "monte_carlo_price = swaption_calculator.monte_carlo_valuation(0.06, 100, 10000)\n",
    "print('Monte Carlo Valustion Price : ', monte_carlo_price)"
   ]
  },
  {
   "cell_type": "code",
   "execution_count": 18,
   "id": "44bcf284",
   "metadata": {},
   "outputs": [
    {
     "name": "stdout",
     "output_type": "stream",
     "text": [
      "Analytical Valuation Price: 1948364.0585207187\n",
      "Monte Carlo Valuation Price: 9880.933106353872\n"
     ]
    }
   ],
   "source": [
    "import numpy as np\n",
    "from scipy.stats import norm\n",
    "\n",
    "class SwaptionPriceCalculator:\n",
    "    def __init__(self, data, notional, option_maturity, swap_tenor, volatility, risk_free_rate, option_type):\n",
    "        self.data = data\n",
    "        self.notional = notional\n",
    "        self.option_maturity = option_maturity\n",
    "        self.swap_tenor = swap_tenor\n",
    "        self.volatility = volatility\n",
    "        self.risk_free_rate = risk_free_rate\n",
    "        self.option_type = option_type\n",
    "\n",
    "    def calculate_annuity(self):\n",
    "        maturity_index = int(self.option_maturity * 2) - 1  # Assuming semi-annual payments\n",
    "        annuity_factor = 0\n",
    "        for i in range(maturity_index, len(self.data['Maturity'])):\n",
    "            annuity_factor += np.exp(-self.data['Maturity'][i] * self.data['Continuous_rate'][i])\n",
    "        return annuity_factor\n",
    "\n",
    "    def calculate_strike_rate(self):\n",
    "        maturity_index = int(self.swap_tenor * 2) - 1  # Assuming semi-annual payments\n",
    "        strike_rate = 0\n",
    "        for i in range(maturity_index):\n",
    "            strike_rate += np.exp(-self.data['Maturity'][i] * self.data['Continuous_rate'][i])\n",
    "        return strike_rate\n",
    "\n",
    "    def analytical_valuation(self):\n",
    "        forward_swap_rate = self.calculate_strike_rate()\n",
    "        d1 = (np.log(forward_swap_rate / self.calculate_strike_rate()) + 0.5 * self.volatility ** 2 * self.option_maturity) / (self.volatility * np.sqrt(self.option_maturity))\n",
    "        d2 = d1 - self.volatility * np.sqrt(self.option_maturity)\n",
    "        N_d1 = norm.cdf(d1)\n",
    "        N_d2 = norm.cdf(d2)\n",
    "        annuity_factor = self.notional * self.swap_tenor * self.calculate_annuity()\n",
    "        \n",
    "        if self.option_type == 'receiver_swaption':\n",
    "            option_price = (forward_swap_rate * N_d1 - self.calculate_strike_rate() * N_d2) * annuity_factor\n",
    "        else:\n",
    "            option_price = (self.calculate_strike_rate() * (1 - N_d2) - forward_swap_rate * (1 - N_d1)) * annuity_factor\n",
    "        \n",
    "        return option_price\n",
    "\n",
    "    def monte_carlo_valuation(self, F0, nsteps, nsims):\n",
    "        dt = self.option_maturity / nsteps\n",
    "        F = np.zeros((nsims, nsteps + 1))\n",
    "        F[:, 0] = F0\n",
    "        for i in range(nsteps):\n",
    "            phi = np.random.randn(nsims)\n",
    "            F[:, i + 1] = F[:, i] * np.exp(phi * self.volatility * np.sqrt(dt) - 0.5 * self.volatility ** 2 * dt)\n",
    "        \n",
    "        payoff = np.maximum(F[:, -1] - F0, 0)\n",
    "        discounted_payoff = np.exp(-self.risk_free_rate * self.option_maturity) * payoff\n",
    "        option_price = self.notional * 0.5 * self.calculate_annuity() * discounted_payoff.mean()\n",
    "        \n",
    "        return option_price\n",
    "\n",
    "# Example usage:\n",
    "data = {\n",
    "    'Maturity': [0.5, 1.0, 1.5, 2.0, 2.5, 3.0],\n",
    "    'Continuous_rate': [0.0500, 0.0600, 0.0675, 0.0725,0.0750, 0.0760],\n",
    "}\n",
    "notional = 1000000\n",
    "option_maturity = 1\n",
    "swap_tenor = 2\n",
    "volatility = 0.2\n",
    "risk_free_rate = 0.05\n",
    "option_type = 'receiver_swaption'\n",
    "\n",
    "swaption_calculator = SwaptionPriceCalculator(data, notional, option_maturity, swap_tenor, volatility, risk_free_rate, option_type)\n",
    "analytical_price = swaption_calculator.analytical_valuation()\n",
    "monte_carlo_price = swaption_calculator.monte_carlo_valuation(0.06, 100, 10000)\n",
    "\n",
    "print(\"Analytical Valuation Price:\", analytical_price)\n",
    "print(\"Monte Carlo Valuation Price:\", monte_carlo_price)\n"
   ]
  },
  {
   "cell_type": "code",
   "execution_count": null,
   "id": "9d9b4813",
   "metadata": {},
   "outputs": [],
   "source": []
  }
 ],
 "metadata": {
  "kernelspec": {
   "display_name": "Python 3 (ipykernel)",
   "language": "python",
   "name": "python3"
  },
  "language_info": {
   "codemirror_mode": {
    "name": "ipython",
    "version": 3
   },
   "file_extension": ".py",
   "mimetype": "text/x-python",
   "name": "python",
   "nbconvert_exporter": "python",
   "pygments_lexer": "ipython3",
   "version": "3.10.8"
  }
 },
 "nbformat": 4,
 "nbformat_minor": 5
}
